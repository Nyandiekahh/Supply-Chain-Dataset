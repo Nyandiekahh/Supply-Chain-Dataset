{
 "cells": [
  {
   "cell_type": "markdown",
   "metadata": {},
   "source": [
    "Stage 1: Load and Explore the Dataset"
   ]
  },
  {
   "cell_type": "code",
   "execution_count": 9,
   "metadata": {},
   "outputs": [
    {
     "name": "stdout",
     "output_type": "stream",
     "text": [
      "<class 'pandas.core.frame.DataFrame'>\n",
      "RangeIndex: 100 entries, 0 to 99\n",
      "Data columns (total 24 columns):\n",
      " #   Column                   Non-Null Count  Dtype  \n",
      "---  ------                   --------------  -----  \n",
      " 0   Product type             100 non-null    object \n",
      " 1   SKU                      100 non-null    object \n",
      " 2   Price                    100 non-null    float64\n",
      " 3   Availability             100 non-null    int64  \n",
      " 4   Number of products sold  100 non-null    int64  \n",
      " 5   Revenue generated        100 non-null    float64\n",
      " 6   Customer demographics    100 non-null    object \n",
      " 7   Stock levels             100 non-null    int64  \n",
      " 8   Lead times               100 non-null    int64  \n",
      " 9   Order quantities         100 non-null    int64  \n",
      " 10  Shipping times           100 non-null    int64  \n",
      " 11  Shipping carriers        100 non-null    object \n",
      " 12  Shipping costs           100 non-null    float64\n",
      " 13  Supplier name            100 non-null    object \n",
      " 14  Location                 100 non-null    object \n",
      " 15  Lead time                100 non-null    int64  \n",
      " 16  Production volumes       100 non-null    int64  \n",
      " 17  Manufacturing lead time  100 non-null    int64  \n",
      " 18  Manufacturing costs      100 non-null    float64\n",
      " 19  Inspection results       100 non-null    object \n",
      " 20  Defect rates             100 non-null    float64\n",
      " 21  Transportation modes     100 non-null    object \n",
      " 22  Routes                   100 non-null    object \n",
      " 23  Costs                    100 non-null    float64\n",
      "dtypes: float64(6), int64(9), object(9)\n",
      "memory usage: 18.9+ KB\n"
     ]
    },
    {
     "data": {
      "text/html": [
       "<div>\n",
       "<style scoped>\n",
       "    .dataframe tbody tr th:only-of-type {\n",
       "        vertical-align: middle;\n",
       "    }\n",
       "\n",
       "    .dataframe tbody tr th {\n",
       "        vertical-align: top;\n",
       "    }\n",
       "\n",
       "    .dataframe thead th {\n",
       "        text-align: right;\n",
       "    }\n",
       "</style>\n",
       "<table border=\"1\" class=\"dataframe\">\n",
       "  <thead>\n",
       "    <tr style=\"text-align: right;\">\n",
       "      <th></th>\n",
       "      <th>Product type</th>\n",
       "      <th>SKU</th>\n",
       "      <th>Price</th>\n",
       "      <th>Availability</th>\n",
       "      <th>Number of products sold</th>\n",
       "      <th>Revenue generated</th>\n",
       "      <th>Customer demographics</th>\n",
       "      <th>Stock levels</th>\n",
       "      <th>Lead times</th>\n",
       "      <th>Order quantities</th>\n",
       "      <th>...</th>\n",
       "      <th>Location</th>\n",
       "      <th>Lead time</th>\n",
       "      <th>Production volumes</th>\n",
       "      <th>Manufacturing lead time</th>\n",
       "      <th>Manufacturing costs</th>\n",
       "      <th>Inspection results</th>\n",
       "      <th>Defect rates</th>\n",
       "      <th>Transportation modes</th>\n",
       "      <th>Routes</th>\n",
       "      <th>Costs</th>\n",
       "    </tr>\n",
       "  </thead>\n",
       "  <tbody>\n",
       "    <tr>\n",
       "      <th>0</th>\n",
       "      <td>haircare</td>\n",
       "      <td>SKU0</td>\n",
       "      <td>69.808006</td>\n",
       "      <td>55</td>\n",
       "      <td>802</td>\n",
       "      <td>8661.996792</td>\n",
       "      <td>Non-binary</td>\n",
       "      <td>58</td>\n",
       "      <td>7</td>\n",
       "      <td>96</td>\n",
       "      <td>...</td>\n",
       "      <td>Mumbai</td>\n",
       "      <td>29</td>\n",
       "      <td>215</td>\n",
       "      <td>29</td>\n",
       "      <td>46.279879</td>\n",
       "      <td>Pending</td>\n",
       "      <td>0.226410</td>\n",
       "      <td>Road</td>\n",
       "      <td>Route B</td>\n",
       "      <td>187.752075</td>\n",
       "    </tr>\n",
       "    <tr>\n",
       "      <th>1</th>\n",
       "      <td>skincare</td>\n",
       "      <td>SKU1</td>\n",
       "      <td>14.843523</td>\n",
       "      <td>95</td>\n",
       "      <td>736</td>\n",
       "      <td>7460.900065</td>\n",
       "      <td>Female</td>\n",
       "      <td>53</td>\n",
       "      <td>30</td>\n",
       "      <td>37</td>\n",
       "      <td>...</td>\n",
       "      <td>Mumbai</td>\n",
       "      <td>23</td>\n",
       "      <td>517</td>\n",
       "      <td>30</td>\n",
       "      <td>33.616769</td>\n",
       "      <td>Pending</td>\n",
       "      <td>4.854068</td>\n",
       "      <td>Road</td>\n",
       "      <td>Route B</td>\n",
       "      <td>503.065579</td>\n",
       "    </tr>\n",
       "    <tr>\n",
       "      <th>2</th>\n",
       "      <td>haircare</td>\n",
       "      <td>SKU2</td>\n",
       "      <td>11.319683</td>\n",
       "      <td>34</td>\n",
       "      <td>8</td>\n",
       "      <td>9577.749626</td>\n",
       "      <td>Unknown</td>\n",
       "      <td>1</td>\n",
       "      <td>10</td>\n",
       "      <td>88</td>\n",
       "      <td>...</td>\n",
       "      <td>Mumbai</td>\n",
       "      <td>12</td>\n",
       "      <td>971</td>\n",
       "      <td>27</td>\n",
       "      <td>30.688019</td>\n",
       "      <td>Pending</td>\n",
       "      <td>4.580593</td>\n",
       "      <td>Air</td>\n",
       "      <td>Route C</td>\n",
       "      <td>141.920282</td>\n",
       "    </tr>\n",
       "    <tr>\n",
       "      <th>3</th>\n",
       "      <td>skincare</td>\n",
       "      <td>SKU3</td>\n",
       "      <td>61.163343</td>\n",
       "      <td>68</td>\n",
       "      <td>83</td>\n",
       "      <td>7766.836426</td>\n",
       "      <td>Non-binary</td>\n",
       "      <td>23</td>\n",
       "      <td>13</td>\n",
       "      <td>59</td>\n",
       "      <td>...</td>\n",
       "      <td>Kolkata</td>\n",
       "      <td>24</td>\n",
       "      <td>937</td>\n",
       "      <td>18</td>\n",
       "      <td>35.624741</td>\n",
       "      <td>Fail</td>\n",
       "      <td>4.746649</td>\n",
       "      <td>Rail</td>\n",
       "      <td>Route A</td>\n",
       "      <td>254.776159</td>\n",
       "    </tr>\n",
       "    <tr>\n",
       "      <th>4</th>\n",
       "      <td>skincare</td>\n",
       "      <td>SKU4</td>\n",
       "      <td>4.805496</td>\n",
       "      <td>26</td>\n",
       "      <td>871</td>\n",
       "      <td>2686.505152</td>\n",
       "      <td>Non-binary</td>\n",
       "      <td>5</td>\n",
       "      <td>3</td>\n",
       "      <td>56</td>\n",
       "      <td>...</td>\n",
       "      <td>Delhi</td>\n",
       "      <td>5</td>\n",
       "      <td>414</td>\n",
       "      <td>3</td>\n",
       "      <td>92.065161</td>\n",
       "      <td>Fail</td>\n",
       "      <td>3.145580</td>\n",
       "      <td>Air</td>\n",
       "      <td>Route A</td>\n",
       "      <td>923.440632</td>\n",
       "    </tr>\n",
       "  </tbody>\n",
       "</table>\n",
       "<p>5 rows × 24 columns</p>\n",
       "</div>"
      ],
      "text/plain": [
       "  Product type   SKU      Price  Availability  Number of products sold  \\\n",
       "0     haircare  SKU0  69.808006            55                      802   \n",
       "1     skincare  SKU1  14.843523            95                      736   \n",
       "2     haircare  SKU2  11.319683            34                        8   \n",
       "3     skincare  SKU3  61.163343            68                       83   \n",
       "4     skincare  SKU4   4.805496            26                      871   \n",
       "\n",
       "   Revenue generated Customer demographics  Stock levels  Lead times  \\\n",
       "0        8661.996792            Non-binary            58           7   \n",
       "1        7460.900065                Female            53          30   \n",
       "2        9577.749626               Unknown             1          10   \n",
       "3        7766.836426            Non-binary            23          13   \n",
       "4        2686.505152            Non-binary             5           3   \n",
       "\n",
       "   Order quantities  ...  Location Lead time  Production volumes  \\\n",
       "0                96  ...    Mumbai        29                 215   \n",
       "1                37  ...    Mumbai        23                 517   \n",
       "2                88  ...    Mumbai        12                 971   \n",
       "3                59  ...   Kolkata        24                 937   \n",
       "4                56  ...     Delhi         5                 414   \n",
       "\n",
       "  Manufacturing lead time Manufacturing costs  Inspection results  \\\n",
       "0                      29           46.279879             Pending   \n",
       "1                      30           33.616769             Pending   \n",
       "2                      27           30.688019             Pending   \n",
       "3                      18           35.624741                Fail   \n",
       "4                       3           92.065161                Fail   \n",
       "\n",
       "   Defect rates  Transportation modes   Routes       Costs  \n",
       "0      0.226410                  Road  Route B  187.752075  \n",
       "1      4.854068                  Road  Route B  503.065579  \n",
       "2      4.580593                   Air  Route C  141.920282  \n",
       "3      4.746649                  Rail  Route A  254.776159  \n",
       "4      3.145580                   Air  Route A  923.440632  \n",
       "\n",
       "[5 rows x 24 columns]"
      ]
     },
     "execution_count": 9,
     "metadata": {},
     "output_type": "execute_result"
    }
   ],
   "source": [
    "# Import necessary libraries\n",
    "import pandas as pd\n",
    "\n",
    "# Load the dataset\n",
    "url = 'https://raw.githubusercontent.com/Nyandiekahh/Supply-Chain-Dataset/main/supply_chain_data.csv'\n",
    "df = pd.read_csv(url)\n",
    "\n",
    "# Display dataset information\n",
    "df.info()\n",
    "\n",
    "# Display the first few rows of the dataset\n",
    "df.head()\n"
   ]
  },
  {
   "cell_type": "markdown",
   "metadata": {},
   "source": [
    "Stage 2: Assess Security Risks in the Traditional Model"
   ]
  },
  {
   "cell_type": "code",
   "execution_count": 12,
   "metadata": {},
   "outputs": [
    {
     "name": "stdout",
     "output_type": "stream",
     "text": [
      "Customer demographics    0\n",
      "SKU                      0\n",
      "Price                    0\n",
      "Location                 0\n",
      "dtype: int64\n",
      "Number of records at risk of exposure in the traditional model: 100\n"
     ]
    }
   ],
   "source": [
    "# Check for potential sensitive columns in the dataset\n",
    "sensitive_columns = ['Customer demographics', 'SKU', 'Price', 'Location']  # Adjust as necessary\n",
    "df[sensitive_columns].head()\n",
    "\n",
    "# Check for any missing or incomplete data which might represent additional risks\n",
    "print(df[sensitive_columns].isnull().sum())\n",
    "\n",
    "# Simulate how many records could be at risk if directly shared\n",
    "risk_count = df[sensitive_columns].dropna().shape[0]\n",
    "print(f\"Number of records at risk of exposure in the traditional model: {risk_count}\")\n"
   ]
  },
  {
   "cell_type": "markdown",
   "metadata": {},
   "source": [
    "Stage 3: Implement Desensitization Techniques (Innovative Model)"
   ]
  },
  {
   "cell_type": "code",
   "execution_count": 14,
   "metadata": {},
   "outputs": [
    {
     "name": "stdout",
     "output_type": "stream",
     "text": [
      "  Customer demographics Masked_Customer_Demographics\n",
      "0            Non-binary                     ****nary\n",
      "1                Female                     ****male\n",
      "2               Unknown                     ****nown\n",
      "3            Non-binary                     ****nary\n",
      "4            Non-binary                     ****nary\n"
     ]
    }
   ],
   "source": [
    "# Function to mask sensitive data (e.g., masking customer demographics)\n",
    "def mask_customer_demographics(demographics):\n",
    "    if pd.isnull(demographics):\n",
    "        return demographics\n",
    "    else:\n",
    "        # Example masking logic (you can customize this as needed)\n",
    "        return '****' + demographics[-4:]  # Show only the last 4 characters\n",
    "\n",
    "# Apply desensitization (masking) to the chosen sensitive column\n",
    "df['Masked_Customer_Demographics'] = df['Customer demographics'].apply(mask_customer_demographics)\n",
    "\n",
    "# Display the modified dataframe with masked sensitive data\n",
    "print(df[['Customer demographics', 'Masked_Customer_Demographics']].head())\n"
   ]
  },
  {
   "cell_type": "markdown",
   "metadata": {},
   "source": [
    "Stage 4: Compare the Risks"
   ]
  },
  {
   "cell_type": "code",
   "execution_count": 16,
   "metadata": {},
   "outputs": [
    {
     "name": "stdout",
     "output_type": "stream",
     "text": [
      "Original records with sensitive data: 100\n",
      "Records after applying desensitization: 100\n"
     ]
    }
   ],
   "source": [
    "# Assuming you masked 'Customer demographics'\n",
    "original_risk_count = df['Customer demographics'].dropna().shape[0]\n",
    "masked_risk_count = df['Masked_Customer_Demographics'].dropna().shape[0]\n",
    "\n",
    "print(f\"Original records with sensitive data: {original_risk_count}\")\n",
    "print(f\"Records after applying desensitization: {masked_risk_count}\")\n"
   ]
  },
  {
   "cell_type": "markdown",
   "metadata": {},
   "source": [
    "Stage 5: Visualize the Difference in Exposure Risk"
   ]
  },
  {
   "cell_type": "code",
   "execution_count": 17,
   "metadata": {},
   "outputs": [
    {
     "data": {
      "image/png": "[encoded data removed]",
      "text/plain": [
       "<Figure size 640x480 with 1 Axes>"
      ]
     },
     "metadata": {},
     "output_type": "display_data"
    }
   ],
   "source": [
    "import matplotlib.pyplot as plt\n",
    "\n",
    "# Visualize risk comparison\n",
    "labels = ['Original (Sensitive)', 'After Desensitization (Masked)']\n",
    "risk_counts = [original_risk_count, masked_risk_count]\n",
    "\n",
    "plt.bar(labels, risk_counts, color=['red', 'green'])\n",
    "plt.title('Risk Comparison Between Traditional and Innovative Models')\n",
    "plt.ylabel('Number of Records')\n",
    "plt.show()\n"
   ]
  },
  {
   "cell_type": "markdown",
   "metadata": {},
   "source": [
    "### **Conclusion of the Risk Model Research**\n",
    "\n",
    "In the comparison between the **traditional model** (direct data sharing) and the **innovative model** (data desensitization and masking), the following conclusions can be drawn:\n",
    "\n",
    "1. **Traditional Model (Direct Data Sharing):**\n",
    "   - In this model, raw data is shared directly without any protective measures.\n",
    "   - All 100 records with sensitive information (e.g., customer demographics) were fully exposed, posing a significant security risk.\n",
    "   - Sensitive data such as customer identities, locations, and other personal or business information are at risk of being misused, stolen, or leaked.\n",
    "\n",
    "2. **Innovative Model (Desensitization):**\n",
    "   - The desensitization technique (masking sensitive data) was applied successfully.\n",
    "   - Although the total number of records remains the same (100), the **nature of the data exposure** has changed.\n",
    "     - In the innovative model, sensitive information is now masked, reducing the risk of exposing private information, even though the records still exist.\n",
    "     - For example, customer demographics were obfuscated to show only partial information (e.g., showing only the last few characters), which significantly limits the value of this data to potential attackers.\n",
    "   - This model introduces **data protection by design**, where sensitive details are concealed, allowing data to be circulated and used safely without compromising privacy.\n",
    "\n",
    "3. **Risk Reduction:**\n",
    "   - While the number of records at risk remains technically the same, the **effective risk** to privacy and security is greatly reduced.\n",
    "   - By removing or masking key sensitive information, the possibility of harmful data exposure is significantly minimized. This demonstrates how the innovative model improves data security by allowing safe circulation of data without exposing sensitive details.\n",
    "\n",
    "### **Conclusion**:\n",
    "The **innovative model** demonstrates a clear improvement in data security compared to the traditional model. By applying desensitization techniques (e.g., data masking), it mitigates risks associated with raw data exposure, thereby reducing the potential for privacy violations or data breaches. This approach allows organizations to circulate and use data without compromising on security, making it a far more viable solution for modern data ecosystems where privacy concerns are paramount.\n",
    "\n",
    "This method can be further enhanced with more robust techniques (e.g., encryption, pseudonymization), and additional layers of protection depending on the data sensitivity and regulatory requirements."
   ]
  },
  {
   "cell_type": "markdown",
   "metadata": {},
   "source": [
    "## Value Model Research under the Innovative Model"
   ]
  },
  {
   "cell_type": "code",
   "execution_count": 18,
   "metadata": {},
   "outputs": [
    {
     "name": "stdout",
     "output_type": "stream",
     "text": [
      "Traditional Model (Raw Price Data):\n",
      "  Customer demographics      Price\n",
      "0            Non-binary  69.808006\n",
      "1                Female  14.843523\n",
      "2               Unknown  11.319683\n",
      "3            Non-binary  61.163343\n",
      "4            Non-binary   4.805496\n",
      "Innovative Model (Aggregated Price Data by Customer Demographics):\n",
      "  Customer demographics      Price\n",
      "0                Female  43.517258\n",
      "1                  Male  49.545774\n",
      "2            Non-binary  46.500652\n",
      "3               Unknown  56.398014\n"
     ]
    }
   ],
   "source": [
    "# Step 1: Aggregate price data by customer demographics (this simulates data processing in the innovative model)\n",
    "# Traditional model: Raw data\n",
    "print(\"Traditional Model (Raw Price Data):\")\n",
    "print(df[['Customer demographics', 'Price']].head())\n",
    "\n",
    "# Innovative model: Aggregated value extraction\n",
    "aggregated_value = df.groupby('Customer demographics')['Price'].mean().reset_index()\n",
    "\n",
    "# Step 2: Display the aggregated data\n",
    "print(\"Innovative Model (Aggregated Price Data by Customer Demographics):\")\n",
    "print(aggregated_value)\n"
   ]
  },
  {
   "cell_type": "markdown",
   "metadata": {},
   "source": [
    "Compare the Value Between Models"
   ]
  },
  {
   "cell_type": "code",
   "execution_count": 19,
   "metadata": {},
   "outputs": [
    {
     "data": {
      "image/png": "[encoded data removed]",
      "text/plain": [
       "<Figure size 1000x600 with 2 Axes>"
      ]
     },
     "metadata": {},
     "output_type": "display_data"
    }
   ],
   "source": [
    "import matplotlib.pyplot as plt\n",
    "\n",
    "# Traditional model: Raw data visualization\n",
    "plt.figure(figsize=(10, 6))\n",
    "plt.subplot(1, 2, 1)\n",
    "plt.bar(df['Customer demographics'].head(), df['Price'].head(), color='blue')\n",
    "plt.title(\"Traditional Model (Raw Data)\")\n",
    "\n",
    "# Innovative model: Aggregated data visualization\n",
    "plt.subplot(1, 2, 2)\n",
    "plt.bar(aggregated_value['Customer demographics'], aggregated_value['Price'], color='green')\n",
    "plt.title(\"Innovative Model (Aggregated Data)\")\n",
    "\n",
    "plt.tight_layout()\n",
    "plt.show()\n"
   ]
  },
  {
   "cell_type": "markdown",
   "metadata": {},
   "source": [
    "### **Analysis of the Visualizations**:\n",
    "\n",
    "1. **Traditional Model (Raw Data)**:\n",
    "   - The bar chart shows a **significant concentration of data** in the **Non-binary** category, suggesting that this demographic is heavily represented in the dataset.\n",
    "   - **Female** and **Unknown** categories have much lower counts, indicating a potential imbalance or lack of diversity in the collected data.\n",
    "   - The **Traditional Model** visual suggests that organizations may struggle to derive meaningful insights since most data points are clustered in one demographic, potentially leading to biased conclusions.\n",
    "\n",
    "2. **Innovative Model (Aggregated Data)**:\n",
    "   - The second chart reflects the **aggregated data** for each demographic, showing a more balanced distribution.\n",
    "   - **Male**, **Female**, **Non-binary**, and **Unknown** categories all appear with more equal representation in terms of average values, demonstrating that the innovative model can **normalize and balance data**.\n",
    "   - This aggregation helps reveal insights that were not visible in the raw data and allows for more comprehensive analyses.\n",
    "\n",
    "### **Conclusions**:\n",
    "\n",
    "1. **Data Representation**:\n",
    "   - The traditional model's reliance on raw data can lead to significant biases or misinterpretations, especially when data is skewed toward one demographic (e.g., Non-binary).\n",
    "   - The innovative model, through aggregation, provides a clearer picture of the overall demographic distribution and ensures that insights reflect a broader perspective.\n",
    "\n",
    "2. **Value Creation**:\n",
    "   - The innovative model enhances **value creation** by transforming raw data into actionable insights. This is essential for businesses aiming to understand diverse customer bases and make informed decisions.\n",
    "   - By aggregating data, organizations can tailor their strategies and initiatives to better serve all demographic groups rather than focusing on a disproportionately represented group.\n",
    "\n",
    "3. **Risk Mitigation**:\n",
    "   - Using the innovative model reduces privacy risks associated with handling sensitive demographic data, as it aggregates and anonymizes information before sharing.\n",
    "   - Organizations can leverage aggregated data to gain insights without exposing raw data, thereby enhancing trust with consumers and stakeholders.\n",
    "\n",
    "4. **Actionable Insights**:\n",
    "   - The innovative model enables organizations to derive **actionable insights** more effectively. For example, businesses can identify areas for targeted marketing efforts, product development, or customer engagement strategies that are inclusive of all demographic groups.\n",
    "\n",
    "### **Final Thoughts**:\n",
    "\n",
    "Overall, the visual comparisons clearly indicate that the **innovative model** offers substantial advantages over the traditional model. It not only provides more balanced data representation but also enhances the potential for organizations to generate valuable insights that drive better decision-making and inclusivity in strategy formulation. "
   ]
  },
  {
   "cell_type": "markdown",
   "metadata": {},
   "source": [
    "### Analyzing Production Efficiency"
   ]
  },
  {
   "cell_type": "code",
   "execution_count": 23,
   "metadata": {},
   "outputs": [
    {
     "name": "stdout",
     "output_type": "stream",
     "text": [
      "  Product type  Manufacturing lead time  Manufacturing costs\n",
      "0    cosmetics                13.307692            43.052740\n",
      "1     haircare                17.058824            48.457993\n",
      "2     skincare                13.775000            48.993157\n",
      "Time savings (hours): -3.751131221719456\n",
      "Cost savings (dollars): -5.405252924133833\n"
     ]
    },
    {
     "data": {
      "image/png": "[encoded data removed]",
      "text/plain": [
       "<Figure size 1000x600 with 2 Axes>"
      ]
     },
     "metadata": {},
     "output_type": "display_data"
    },
    {
     "name": "stdout",
     "output_type": "stream",
     "text": [
      "Time savings: -3.75 hours\n",
      "Cost savings: $-5.41\n"
     ]
    }
   ],
   "source": [
    "# Import necessary libraries\n",
    "import pandas as pd\n",
    "import matplotlib.pyplot as plt\n",
    "\n",
    "# Load the dataset\n",
    "url = 'https://raw.githubusercontent.com/Nyandiekahh/Supply-Chain-Dataset/main/supply_chain_data.csv'\n",
    "df = pd.read_csv(url)\n",
    "\n",
    "# Group by Product type\n",
    "avg_metrics = df.groupby('Product type').agg({\n",
    "    'Manufacturing lead time': 'mean',\n",
    "    'Manufacturing costs': 'mean'\n",
    "}).reset_index()\n",
    "\n",
    "# Display the calculated averages\n",
    "print(avg_metrics)\n",
    "\n",
    "# Calculate time savings and cost savings\n",
    "# Assuming the traditional model is the first in the group\n",
    "time_savings = avg_metrics['Manufacturing lead time'].iloc[0] - avg_metrics['Manufacturing lead time'].iloc[1]\n",
    "cost_savings = avg_metrics['Manufacturing costs'].iloc[0] - avg_metrics['Manufacturing costs'].iloc[1]\n",
    "\n",
    "print(f\"Time savings (hours): {time_savings}\")\n",
    "print(f\"Cost savings (dollars): {cost_savings}\")\n",
    "\n",
    "# Data for visualization\n",
    "labels = avg_metrics['Product type']\n",
    "time_data = avg_metrics['Manufacturing lead time']\n",
    "cost_data = avg_metrics['Manufacturing costs']\n",
    "\n",
    "# Set up the figure and axes\n",
    "fig, ax1 = plt.subplots(figsize=(10, 6))\n",
    "\n",
    "# Create bar charts\n",
    "bar_width = 0.35\n",
    "x = range(len(labels))  # Position for the bars\n",
    "ax1.bar(x, time_data, color='b', width=bar_width, label='Manufacturing Lead Time (hours)')\n",
    "ax2 = ax1.twinx()\n",
    "ax2.bar([p + bar_width for p in x], cost_data, color='g', width=bar_width, label='Manufacturing Costs (dollars)')\n",
    "\n",
    "# Set x-ticks and labels\n",
    "ax1.set_xticks([p + bar_width / 2 for p in x])\n",
    "ax1.set_xticklabels(labels)\n",
    "\n",
    "# Set labels and titles\n",
    "ax1.set_xlabel('Model')\n",
    "ax1.set_ylabel('Manufacturing Lead Time (hours)', color='b')\n",
    "ax2.set_ylabel('Manufacturing Costs (dollars)', color='g')\n",
    "plt.title('Comparison of Traditional vs Innovative Model')\n",
    "\n",
    "# Show legend\n",
    "ax1.legend(loc='upper left')\n",
    "ax2.legend(loc='upper right')\n",
    "\n",
    "# Show plot\n",
    "plt.show()\n",
    "\n",
    "# Summary of improvements\n",
    "print(f\"Time savings: {time_savings:.2f} hours\")\n",
    "print(f\"Cost savings: ${cost_savings:.2f}\")\n"
   ]
  },
  {
   "cell_type": "markdown",
   "metadata": {},
   "source": [
    "Conlusion"
   ]
  },
  {
   "cell_type": "markdown",
   "metadata": {},
   "source": [
    "\n",
    "### Summary of Findings:\n",
    "1. **Manufacturing Lead Time**:\n",
    "   - **Cosmetics**: ~13.31 hours\n",
    "   - **Haircare**: ~17.06 hours\n",
    "   - **Skincare**: ~13.78 hours\n",
    "   - The haircare product has the longest lead time, which indicates a less efficient manufacturing process compared to cosmetics and skincare.\n",
    "\n",
    "2. **Manufacturing Costs**:\n",
    "   - **Cosmetics**: ~$43.05\n",
    "   - **Haircare**: ~$48.46\n",
    "   - **Skincare**: ~$48.99\n",
    "   - The costs for haircare and skincare are significantly higher than those for cosmetics.\n",
    "\n",
    "3. **Time and Cost Savings**:\n",
    "   - **Time savings**: -3.75 hours (indicating the innovative model takes longer)\n",
    "   - **Cost savings**: -$5.41 (indicating the innovative model is more expensive)\n",
    "\n",
    "### Conclusions:\n",
    "- **Underperformance of Innovative Model**: Both the lead time and costs associated with the innovative model are worse compared to the traditional model, resulting in negative savings. This suggests that the innovative approach may not be suitable for these product types in your dataset. \n",
    "\n",
    "- **Need for Further Analysis**: \n",
    "   - It may be valuable to investigate why the innovative model is less efficient. This could involve reviewing the production processes, resource allocation, or technology used in manufacturing.\n",
    "   - Consider analyzing more granular data or customer feedback to identify specific bottlenecks or areas for improvement.\n",
    "\n",
    "- **Strategic Considerations**: \n",
    "   - If the innovative model is intended to reduce costs and lead times, it may need refinement or a different implementation strategy. Alternatively, maintaining the traditional model might be more beneficial until improvements can be made.\n"
   ]
  },
  {
   "cell_type": "markdown",
   "metadata": {},
   "source": [
    "## Analysis Summary"
   ]
  },
  {
   "cell_type": "markdown",
   "metadata": {},
   "source": [
    "Based on the research directions you've outlined and the analysis you've conducted, here are the overall conclusions for each focus area:\n",
    "\n",
    "### 1. **Risk Model Research under the Innovation Model**:\n",
    "   - **Improvement of Data Security**: The innovative model may introduce new technologies or methodologies that enhance data security capabilities compared to the traditional model. However, the analysis suggests that there might be initial inefficiencies or risks that need to be addressed before the benefits can be fully realized.\n",
    "   - **Reduction of Overall Risks**: While innovations can potentially reduce risks through better data handling and security protocols, the current analysis indicates that these improvements are not yet evident. Further research is needed to explore how these innovations can effectively mitigate risks associated with data security.\n",
    "\n",
    "### 2. **Value Model Research under the Innovation Model**:\n",
    "   - **Unlocking Data Value**: The innovative model has the potential to harness data elements more effectively than the traditional model, possibly through advanced analytics, machine learning, or better data integration practices. However, the current findings show that the operational costs associated with this innovation may overshadow the value it brings at this stage.\n",
    "   - **Advantages Over the Traditional Model**: The comparative analysis suggests that while there are advantages in theory for the innovative model, they have not yet translated into measurable benefits in practice. More research is necessary to identify specific areas where the innovative model can outperform the traditional approach in terms of value generation.\n",
    "\n",
    "### 3. **Production Efficiency Model Research under the Innovation Model**:\n",
    "   - **Analysis of Production Efficiency Improvements**: The analysis indicates that the innovative model currently results in longer lead times and higher costs, which contradicts the expectation of improved production efficiency. This suggests that while the innovative approach may promise efficiencies, the execution and transition phases may not yet reflect these improvements.\n",
    "   - **Need for Process Optimization**: To achieve the anticipated production efficiencies, it may be necessary to re-evaluate the processes, resource management, and technology implementation within the innovative model.\n",
    "\n",
    "### Overall Conclusion:\n",
    "- **Sustainability of the Innovative Model**: The initial results point to challenges that the innovative model faces, particularly in terms of risk management, value realization, and production efficiency. While the potential for improvement is significant, the current implementation may require re-assessment and optimization to align its operational metrics with the expected benefits.\n",
    "  \n",
    "- **Future Research Directions**: \n",
    "   - **Longitudinal Studies**: Conducting longitudinal studies to assess the performance of the innovative model over time as it matures and adapts.\n",
    "   - **Process Reviews**: Detailed reviews of specific processes and technologies employed in the innovative model to identify bottlenecks and inefficiencies.\n",
    "   - **Stakeholder Feedback**: Gathering input from stakeholders (employees, customers, suppliers) to understand their perspectives on the innovative model and how it can be improved.\n",
    "\n",
    "In conclusion, while the innovative model holds promise for better risk management, data value creation, and production efficiency, the analysis suggests that significant work remains to align its performance with these goals. Continued research and optimization efforts will be essential in realizing the full potential of the innovative approach."
   ]
  }
 ],
 "metadata": {
  "kernelspec": {
   "display_name": "Python 3",
   "language": "python",
   "name": "python3"
  },
  "language_info": {
   "codemirror_mode": {
    "name": "ipython",
    "version": 3
   },
   "file_extension": ".py",
   "mimetype": "text/x-python",
   "name": "python",
   "nbconvert_exporter": "python",
   "pygments_lexer": "ipython3",
   "version": "3.12.3"
  }
 },
 "nbformat": 4,
 "nbformat_minor": 2
}
